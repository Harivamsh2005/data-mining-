{
  "nbformat": 4,
  "nbformat_minor": 0,
  "metadata": {
    "colab": {
      "provenance": [],
      "authorship_tag": "ABX9TyO89vckldwg++jBnHVfoAJB",
      "include_colab_link": true
    },
    "kernelspec": {
      "name": "python3",
      "display_name": "Python 3"
    },
    "language_info": {
      "name": "python"
    }
  },
  "cells": [
    {
      "cell_type": "markdown",
      "metadata": {
        "id": "view-in-github",
        "colab_type": "text"
      },
      "source": [
        "<a href=\"https://colab.research.google.com/github/Harivamsh2005/data-mining-/blob/main/data_mining_lab_2.ipynb\" target=\"_parent\"><img src=\"https://colab.research.google.com/assets/colab-badge.svg\" alt=\"Open In Colab\"/></a>"
      ]
    },
    {
      "cell_type": "code",
      "source": [
        "import pandas as pd\n",
        "from sklearn.preprocessing import MinMaxScaler, StandardScaler\n",
        "data = pd.read_csv('titanic.csv')\n",
        "print(data.head())\n",
        "print(\"Missing values before handling:\")\n",
        "print(data.isnull().sum())\n",
        "data['Age'] = pd.to_numeric(data['Age'], errors='coerce')\n",
        "data['Age'] = data['Age'].fillna(data['Age'].mean())\n",
        "print(\"Missing values after handling:\")\n",
        "print(data.isnull().sum())\n",
        "scaler = MinMaxScaler()\n",
        "columns_to_normalize = ['Age', 'Fare']\n",
        "data[columns_to_normalize] = scaler.fit_transform(data[columns_to_normalize])\n",
        "print(\"Normalized data using MinMaxScaler:\")\n",
        "print(data[columns_to_normalize].head())\n",
        "scaler = StandardScaler()\n",
        "data[columns_to_normalize] = scaler.fit_transform(data[columns_to_normalize])\n",
        "print(\"Standardized data using StandardScaler:\")\n",
        "print(data[columns_to_normalize].head())"
      ],
      "metadata": {
        "colab": {
          "base_uri": "https://localhost:8080/"
        },
        "id": "52rR2E8RqNee",
        "outputId": "ead9ff1d-fe7f-46a2-8ab5-ab2af346ecd9"
      },
      "execution_count": 31,
      "outputs": [
        {
          "output_type": "stream",
          "name": "stdout",
          "text": [
            "   PassengerId  Survived  Pclass  \\\n",
            "0            1         0       3   \n",
            "1            2         1       1   \n",
            "2            3         1       3   \n",
            "3            4         1       1   \n",
            "4            5         0       3   \n",
            "\n",
            "                                                Name     Sex   Age  SibSp  \\\n",
            "0                            Braund, Mr. Owen Harris    male  22.0      1   \n",
            "1  Cumings, Mrs. John Bradley (Florence Briggs Th...  female  38.0      1   \n",
            "2                             Heikkinen, Miss. Laina  female  26.0      0   \n",
            "3       Futrelle, Mrs. Jacques Heath (Lily May Peel)  female  35.0      1   \n",
            "4                           Allen, Mr. William Henry    male  35.0      0   \n",
            "\n",
            "   Parch            Ticket     Fare Cabin Embarked  \n",
            "0      0         A/5 21171   7.2500   NaN        S  \n",
            "1      0          PC 17599  71.2833   C85        C  \n",
            "2      0  STON/O2. 3101282   7.9250   NaN        S  \n",
            "3      0            113803  53.1000  C123        S  \n",
            "4      0            373450   8.0500   NaN        S  \n",
            "Missing values before handling:\n",
            "PassengerId      0\n",
            "Survived         0\n",
            "Pclass           0\n",
            "Name             0\n",
            "Sex              0\n",
            "Age            177\n",
            "SibSp            0\n",
            "Parch            0\n",
            "Ticket           0\n",
            "Fare             0\n",
            "Cabin          687\n",
            "Embarked         2\n",
            "dtype: int64\n",
            "Missing values after handling:\n",
            "PassengerId      0\n",
            "Survived         0\n",
            "Pclass           0\n",
            "Name             0\n",
            "Sex              0\n",
            "Age              0\n",
            "SibSp            0\n",
            "Parch            0\n",
            "Ticket           0\n",
            "Fare             0\n",
            "Cabin          687\n",
            "Embarked         2\n",
            "dtype: int64\n",
            "Normalized data using MinMaxScaler:\n",
            "        Age      Fare\n",
            "0  0.271174  0.014151\n",
            "1  0.472229  0.139136\n",
            "2  0.321438  0.015469\n",
            "3  0.434531  0.103644\n",
            "4  0.434531  0.015713\n",
            "Standardized data using StandardScaler:\n",
            "        Age      Fare\n",
            "0 -0.592481 -0.502445\n",
            "1  0.638789  0.786845\n",
            "2 -0.284663 -0.488854\n",
            "3  0.407926  0.420730\n",
            "4  0.407926 -0.486337\n"
          ]
        }
      ]
    },
    {
      "cell_type": "code",
      "source": [
        "import pandas as pd\n",
        "from sklearn.preprocessing import MinMaxScaler, StandardScaler\n",
        "iris_data = pd.read_csv('iris.csv')\n",
        "print(iris_data.head())\n",
        "print(\"Missing values before handling:\")\n",
        "print(iris_data.isnull().sum())\n",
        "iris_data['sepal_length'] = pd.to_numeric(iris_data['sepal_length'], errors='coerce')\n",
        "iris_data['sepal_length'] = iris_data['sepal_length'].fillna(iris_data['sepal_length'].mean())\n",
        "print(\"Missing values after handling:\")\n",
        "print(iris_data.isnull().sum())\n",
        "scaler = MinMaxScaler()\n",
        "columns_to_normalize = ['sepal_length', 'petal_length']\n",
        "iris_data[columns_to_normalize] = scaler.fit_transform(iris_data[columns_to_normalize])\n",
        "print(\"Normalized data using MinMaxScaler:\")\n",
        "print(iris_data[columns_to_normalize].head())\n",
        "scaler = StandardScaler()\n",
        "iris_data[columns_to_normalize] = scaler.fit_transform(iris_data[columns_to_normalize])\n",
        "print(\"Standardized data using StandardScaler:\")\n",
        "print(iris_data[columns_to_normalize].head())"
      ],
      "metadata": {
        "colab": {
          "base_uri": "https://localhost:8080/"
        },
        "id": "WrkAoP8BsgJo",
        "outputId": "b88f2e58-bff0-432a-bb74-4d39142f3a09"
      },
      "execution_count": 32,
      "outputs": [
        {
          "output_type": "stream",
          "name": "stdout",
          "text": [
            "   sepal_length  sepal_width  petal_length  petal_width      species\n",
            "0           5.1          3.5           1.4          0.2  Iris-setosa\n",
            "1           4.9          3.0           1.4          0.2  Iris-setosa\n",
            "2           4.7          3.2           1.3          0.2  Iris-setosa\n",
            "3           4.6          3.1           1.5          0.2  Iris-setosa\n",
            "4           5.0          3.6           1.4          0.2  Iris-setosa\n",
            "Missing values before handling:\n",
            "sepal_length    0\n",
            "sepal_width     0\n",
            "petal_length    0\n",
            "petal_width     0\n",
            "species         0\n",
            "dtype: int64\n",
            "Missing values after handling:\n",
            "sepal_length    0\n",
            "sepal_width     0\n",
            "petal_length    0\n",
            "petal_width     0\n",
            "species         0\n",
            "dtype: int64\n",
            "Normalized data using MinMaxScaler:\n",
            "   sepal_length  petal_length\n",
            "0      0.222222      0.067797\n",
            "1      0.166667      0.067797\n",
            "2      0.111111      0.050847\n",
            "3      0.083333      0.084746\n",
            "4      0.194444      0.067797\n",
            "Standardized data using StandardScaler:\n",
            "   sepal_length  petal_length\n",
            "0     -0.900681     -1.341272\n",
            "1     -1.143017     -1.341272\n",
            "2     -1.385353     -1.398138\n",
            "3     -1.506521     -1.284407\n",
            "4     -1.021849     -1.341272\n"
          ]
        }
      ]
    }
  ]
}
